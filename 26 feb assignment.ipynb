{
 "cells": [
  {
   "cell_type": "code",
   "execution_count": 27,
   "id": "0eb2c305-3234-4b16-8c9e-aa0d043f400e",
   "metadata": {},
   "outputs": [
    {
     "name": "stdout",
     "output_type": "stream",
     "text": [
      "Datatype: <U1\n",
      "Datatype: <class 'list'>\n"
     ]
    }
   ],
   "source": [
    "#Q1(Ans)\n",
    "import numpy as np\n",
    "list_ = [ '1' , '2' , '3' , '4' , '5' ]\n",
    "array_list = np.array( list_)\n",
    "\n",
    "print('Datatype:', array_list.dtype)\n",
    "print('Datatype:', type(list_))\n",
    "#array_list is an array its data types is string but list_variable is a list data types"
   ]
  },
  {
   "cell_type": "code",
   "execution_count": 30,
   "id": "050a7101-8d9b-4ff7-b117-ff2531c31cb8",
   "metadata": {},
   "outputs": [
    {
     "name": "stdout",
     "output_type": "stream",
     "text": [
      "Data types: <U1\n",
      "Data types: <U1\n",
      "Data types: <U1\n",
      "Data types: <U1\n",
      "Data types: <U1\n"
     ]
    }
   ],
   "source": [
    "#Q2(Ans)\n",
    "for i in array_list:\n",
    "    print(\"Data types:\", array_list.dtype)"
   ]
  },
  {
   "cell_type": "code",
   "execution_count": 26,
   "id": "5b6ab1cc-ad8b-422c-bb4b-10afc2c6df31",
   "metadata": {},
   "outputs": [
    {
     "name": "stdout",
     "output_type": "stream",
     "text": [
      "Data types: <class 'str'>\n",
      "Data types: <class 'str'>\n",
      "Data types: <class 'str'>\n",
      "Data types: <class 'str'>\n",
      "Data types: <class 'str'>\n"
     ]
    }
   ],
   "source": [
    "for i in list_:\n",
    "    print(\"Data types:\", type(i))"
   ]
  },
  {
   "cell_type": "code",
   "execution_count": 43,
   "id": "0c09a609-6fbc-4843-b17a-4737255c23bb",
   "metadata": {},
   "outputs": [
    {
     "name": "stdout",
     "output_type": "stream",
     "text": [
      "Data types: int64\n",
      "Data types: <class 'list'>\n"
     ]
    }
   ],
   "source": [
    "#Q3(Ans)\n",
    "import numpy as np\n",
    "num_list = [ [ 1 , 2 , 3 ] , [ 4 , 5 , 6 ] ]\n",
    "num_array = np.array(object = num_list)\n",
    "print(\"Data types:\", num_array.dtype)\n",
    "print(\"Data types:\", type(num_list))"
   ]
  },
  {
   "cell_type": "code",
   "execution_count": 46,
   "id": "886f3b9c-e82b-4e2a-9bd8-ca2a59118c32",
   "metadata": {},
   "outputs": [
    {
     "name": "stdout",
     "output_type": "stream",
     "text": [
      "Data types: int64\n",
      "Data types: int64\n",
      "Data types: int64\n",
      "Data types: int64\n",
      "Data types: int64\n",
      "Data types: int64\n"
     ]
    }
   ],
   "source": [
    "for i in num_array:\n",
    "    for j in i:\n",
    "        print(\"Data types:\", j.dtype)"
   ]
  },
  {
   "cell_type": "code",
   "execution_count": 47,
   "id": "c01fbe47-5fe1-47a4-8ae5-6a71a55aa300",
   "metadata": {},
   "outputs": [
    {
     "name": "stdout",
     "output_type": "stream",
     "text": [
      "Data types: <class 'int'>\n",
      "Data types: <class 'int'>\n",
      "Data types: <class 'int'>\n",
      "Data types: <class 'int'>\n",
      "Data types: <class 'int'>\n",
      "Data types: <class 'int'>\n"
     ]
    }
   ],
   "source": [
    "for i in num_list:\n",
    "    for j in i:\n",
    "        print(\"Data types:\", type(j))"
   ]
  },
  {
   "cell_type": "code",
   "execution_count": 49,
   "id": "00408d7f-03dd-4d16-b329-e8f59c3ba35b",
   "metadata": {},
   "outputs": [
    {
     "data": {
      "text/plain": [
       "array([[1, 2, 3],\n",
       "       [4, 5, 6]])"
      ]
     },
     "execution_count": 49,
     "metadata": {},
     "output_type": "execute_result"
    }
   ],
   "source": [
    "#Q4(Ans\n",
    "import numpy as np\n",
    "num_list = [ [ 1 , 2 , 3 ] , [ 4 , 5 , 6 ] ]\n",
    "num_array = np.array(object = num_list)\n",
    "num_array"
   ]
  },
  {
   "cell_type": "code",
   "execution_count": 50,
   "id": "31a84cf2-250a-4628-88b7-47d4f8852fdd",
   "metadata": {},
   "outputs": [
    {
     "data": {
      "text/plain": [
       "6"
      ]
     },
     "execution_count": 50,
     "metadata": {},
     "output_type": "execute_result"
    }
   ],
   "source": [
    "num_array.size"
   ]
  },
  {
   "cell_type": "code",
   "execution_count": 51,
   "id": "c2225886-45db-4b7b-b190-6d421cf51c56",
   "metadata": {},
   "outputs": [
    {
     "data": {
      "text/plain": [
       "(2, 3)"
      ]
     },
     "execution_count": 51,
     "metadata": {},
     "output_type": "execute_result"
    }
   ],
   "source": [
    "np.shape(num_array)"
   ]
  },
  {
   "cell_type": "code",
   "execution_count": 54,
   "id": "baf6264c-fb15-4c15-877b-45e28d8bcccb",
   "metadata": {},
   "outputs": [],
   "source": [
    "#Q5(Ans)\n",
    "arr=np.zeros((3,3))"
   ]
  },
  {
   "cell_type": "code",
   "execution_count": 55,
   "id": "c1b0ff32-30fc-4a03-b151-ebccb96afc22",
   "metadata": {},
   "outputs": [
    {
     "data": {
      "text/plain": [
       "array([[0., 0., 0.],\n",
       "       [0., 0., 0.],\n",
       "       [0., 0., 0.]])"
      ]
     },
     "execution_count": 55,
     "metadata": {},
     "output_type": "execute_result"
    }
   ],
   "source": [
    "arr"
   ]
  },
  {
   "cell_type": "code",
   "execution_count": 56,
   "id": "8e76e252-b60f-4b12-9905-4d620bb15ba2",
   "metadata": {},
   "outputs": [
    {
     "data": {
      "text/plain": [
       "(3, 3)"
      ]
     },
     "execution_count": 56,
     "metadata": {},
     "output_type": "execute_result"
    }
   ],
   "source": [
    "arr.shape"
   ]
  },
  {
   "cell_type": "code",
   "execution_count": 57,
   "id": "caa78ae5-00a3-4754-8221-36b2f2348ace",
   "metadata": {},
   "outputs": [
    {
     "data": {
      "text/plain": [
       "9"
      ]
     },
     "execution_count": 57,
     "metadata": {},
     "output_type": "execute_result"
    }
   ],
   "source": [
    "arr.size"
   ]
  },
  {
   "cell_type": "code",
   "execution_count": 58,
   "id": "dabeb6e8-d3ad-43fc-8b55-f63066a00b2d",
   "metadata": {},
   "outputs": [],
   "source": [
    "#Q6(Ans)\n",
    "arr1=np.eye(5)"
   ]
  },
  {
   "cell_type": "code",
   "execution_count": 59,
   "id": "e1cbd586-3054-4cbc-ac3e-c192e319031d",
   "metadata": {},
   "outputs": [
    {
     "data": {
      "text/plain": [
       "array([[1., 0., 0., 0., 0.],\n",
       "       [0., 1., 0., 0., 0.],\n",
       "       [0., 0., 1., 0., 0.],\n",
       "       [0., 0., 0., 1., 0.],\n",
       "       [0., 0., 0., 0., 1.]])"
      ]
     },
     "execution_count": 59,
     "metadata": {},
     "output_type": "execute_result"
    }
   ],
   "source": [
    "arr1\n"
   ]
  },
  {
   "cell_type": "code",
   "execution_count": 60,
   "id": "31b3f431-d5ee-42b8-a51d-c11a915a5cbd",
   "metadata": {},
   "outputs": [
    {
     "data": {
      "text/plain": [
       "(5, 5)"
      ]
     },
     "execution_count": 60,
     "metadata": {},
     "output_type": "execute_result"
    }
   ],
   "source": [
    "arr1.shape"
   ]
  },
  {
   "cell_type": "code",
   "execution_count": 61,
   "id": "3d929dbb-7fe9-40b1-84b4-3d75ef4539a0",
   "metadata": {},
   "outputs": [
    {
     "data": {
      "text/plain": [
       "25"
      ]
     },
     "execution_count": 61,
     "metadata": {},
     "output_type": "execute_result"
    }
   ],
   "source": [
    "arr1.size"
   ]
  },
  {
   "cell_type": "code",
   "execution_count": null,
   "id": "4f930cc6-daa6-4d5a-9f87-b95078444f03",
   "metadata": {},
   "outputs": [],
   "source": []
  }
 ],
 "metadata": {
  "kernelspec": {
   "display_name": "Python 3 (ipykernel)",
   "language": "python",
   "name": "python3"
  },
  "language_info": {
   "codemirror_mode": {
    "name": "ipython",
    "version": 3
   },
   "file_extension": ".py",
   "mimetype": "text/x-python",
   "name": "python",
   "nbconvert_exporter": "python",
   "pygments_lexer": "ipython3",
   "version": "3.10.8"
  }
 },
 "nbformat": 4,
 "nbformat_minor": 5
}
